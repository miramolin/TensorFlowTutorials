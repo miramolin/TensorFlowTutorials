{
 "cells": [
  {
   "cell_type": "markdown",
   "metadata": {},
   "source": [
    "<h1>Feature Engineering</h1>\n"
   ]
  },
  {
   "cell_type": "code",
   "execution_count": 866,
   "metadata": {
    "collapsed": false
   },
   "outputs": [
    {
     "name": "stdout",
     "output_type": "stream",
     "text": [
      "Populating the interactive namespace from numpy and matplotlib\n"
     ]
    },
    {
     "name": "stderr",
     "output_type": "stream",
     "text": [
      "WARNING: pylab import has clobbered these variables: ['zeros', 'ones']\n",
      "`%matplotlib` prevents importing * from pylab and numpy\n"
     ]
    }
   ],
   "source": [
    "import numpy as np\n",
    "import pandas as pd\n",
    "import tensorflow as tf\n",
    "from sklearn.preprocessing import MinMaxScaler\n",
    "%matplotlib inline\n",
    "import matplotlib.pyplot as plt\n",
    "import matplotlib\n",
    "from matplotlib.collections import LineCollection\n",
    "\n",
    "%pylab inline\n",
    "pylab.rcParams['figure.figsize'] = (6, 6)"
   ]
  },
  {
   "cell_type": "markdown",
   "metadata": {},
   "source": [
    "----\n",
    "<p>I will generate 150 points for the training set. Points on or below the axis will be blue. Points above the axis will be red.</p>\n",
    "\n",
    "----"
   ]
  },
  {
   "cell_type": "code",
   "execution_count": 867,
   "metadata": {
    "collapsed": false,
    "scrolled": false
   },
   "outputs": [
    {
     "data": {
      "text/plain": [
       "[<matplotlib.lines.Line2D at 0x127280320>,\n",
       " <matplotlib.lines.Line2D at 0x1298f57f0>]"
      ]
     },
     "execution_count": 867,
     "metadata": {},
     "output_type": "execute_result"
    },
    {
     "data": {
      "image/png": "[encoded data removed]",
      "text/plain": [
       "<matplotlib.figure.Figure at 0x127280b38>"
      ]
     },
     "metadata": {},
     "output_type": "display_data"
    }
   ],
   "source": [
    "mean   = [0, 0]\n",
    "cov    = [[1, 0], [0, 100]]\n",
    "points = np.random.multivariate_normal(mean, cov, 150)\n",
    "points = np.round(points, decimals = 2)\n",
    "\n",
    "pos_points = points.copy()\n",
    "neg_points = points.copy()\n",
    "\n",
    "pos_points[pos_points <= 0] = np.nan\n",
    "neg_points[neg_points >  0] = np.nan\n",
    "\n",
    "plt.plot(pos_points, 'ro', color = 'r')\n",
    "plt.plot(neg_points, 'ro', color = 'b',)"
   ]
  },
  {
   "cell_type": "markdown",
   "metadata": {},
   "source": [
    "----\n",
    "<p>Having visually generated the concept, I will now provide labels for all of the training points.</p>\n",
    "<p>This means that everything above 0.5 wil have the label <code>0</code> and everything equal to or below 0.5, the label <code>1</code>.</p>\n",
    "<p>I will create a dataframe which has three columns. Column one and two will be the (x,y) coordinates, and the third column will be the label.</p>\n",
    "\n",
    "----"
   ]
  },
  {
   "cell_type": "code",
   "execution_count": 868,
   "metadata": {
    "collapsed": false,
    "scrolled": false
   },
   "outputs": [],
   "source": [
    "pointsDF = pd.DataFrame(points)\n",
    "\n",
    "scaled = MinMaxScaler(feature_range=(0,1))\n",
    "pointsDF = scaled.fit_transform(pointsDF)\n",
    "\n",
    "pointsDF = pd.DataFrame(pointsDF)"
   ]
  },
  {
   "cell_type": "code",
   "execution_count": 869,
   "metadata": {
    "collapsed": false,
    "scrolled": true
   },
   "outputs": [],
   "source": [
    "pointsDF['label'] = np.where((pointsDF[1] <= 0.5), 2, 1)"
   ]
  },
  {
   "cell_type": "code",
   "execution_count": 870,
   "metadata": {
    "collapsed": false,
    "scrolled": true
   },
   "outputs": [
    {
     "data": {
      "text/plain": [
       "[<matplotlib.lines.Line2D at 0x12ada8ef0>]"
      ]
     },
     "execution_count": 870,
     "metadata": {},
     "output_type": "execute_result"
    },
    {
     "data": {
      "image/png": "[encoded data removed]",
      "text/plain": [
       "<matplotlib.figure.Figure at 0x134a36748>"
      ]
     },
     "metadata": {},
     "output_type": "display_data"
    }
   ],
   "source": [
    "zeros = pointsDF[(pointsDF.label==1)]\n",
    "ones  = pointsDF[(pointsDF.label==2)]\n",
    "\n",
    "\n",
    "plt.plot(zeros[1], 'ro', color='r' )\n",
    "plt.plot(ones[1],  'ro', color='b' )"
   ]
  },
  {
   "cell_type": "markdown",
   "metadata": {},
   "source": [
    "----\n",
    "\n",
    "<h3>I have simplified the problem.</h3>\n",
    "<p>Now there is just one variable, apart from the <code>index</code> and the <code>label</code>. So for instance <code>point 120</code> or <code>point 3</code> or <code>point 43</code> and its correponding value, which takes on a number between <code>0</code> and <code>1</code>. If it is below <code>0.5</code> it takes on the <code>label 1</code> and if it is above <code>0.5</code> it takes on the <code>value 0</code>.</p>\n",
    "\n",
    "----\n"
   ]
  },
  {
   "cell_type": "markdown",
   "metadata": {},
   "source": [
    "<h3>Split into train and test sets, with seperate refs for each column</h3>"
   ]
  },
  {
   "cell_type": "code",
   "execution_count": 871,
   "metadata": {
    "collapsed": false
   },
   "outputs": [
    {
     "name": "stdout",
     "output_type": "stream",
     "text": [
      "100 100\n"
     ]
    }
   ],
   "source": [
    "trainX = pointsDF.iloc[0:100,1]\n",
    "#testX  = pointsDF.iloc[101:, 1]\n",
    "\n",
    "trainY = pointsDF.iloc[0:100,2]\n",
    "#testY  = pointsDF.iloc[101:, 2]\n",
    "\n",
    "print(len(trainX), len(trainY))"
   ]
  },
  {
   "cell_type": "code",
   "execution_count": 888,
   "metadata": {
    "collapsed": false
   },
   "outputs": [],
   "source": [
    "trainX = np.asarray(trainX)\n",
    "trainY = np.asarray(trainY)"
   ]
  },
  {
   "cell_type": "code",
   "execution_count": 873,
   "metadata": {
    "collapsed": false,
    "scrolled": true
   },
   "outputs": [
    {
     "name": "stdout",
     "output_type": "stream",
     "text": [
      "[ 0.71428571  0.51368159  0.39498934]\n"
     ]
    }
   ],
   "source": [
    "print(trainX[0:3])"
   ]
  },
  {
   "cell_type": "code",
   "execution_count": 874,
   "metadata": {
    "collapsed": false,
    "scrolled": false
   },
   "outputs": [
    {
     "name": "stdout",
     "output_type": "stream",
     "text": [
      "[1 1 2]\n"
     ]
    }
   ],
   "source": [
    "print(trainY[0:3])"
   ]
  },
  {
   "cell_type": "code",
   "execution_count": 803,
   "metadata": {
    "collapsed": false,
    "scrolled": true
   },
   "outputs": [],
   "source": [
    "#fig = plt.figure()\n",
    "#ax = fig.gca(projection='3d')\n",
    "#ax.scatter(pointsDF.iloc[0:100,0], pointsDF.iloc[0:100,1], pointsDF.iloc[0:100,2])\n"
   ]
  },
  {
   "cell_type": "markdown",
   "metadata": {},
   "source": [
    "<h3>Time to build the net...</h3>"
   ]
  },
  {
   "cell_type": "code",
   "execution_count": 883,
   "metadata": {
    "collapsed": true
   },
   "outputs": [],
   "source": [
    "import math\n",
    "import tensorflow as tf"
   ]
  },
  {
   "cell_type": "markdown",
   "metadata": {},
   "source": [
    "----\n",
    "\n",
    "<h3>Below</h3>\n",
    "\n",
    "<p>is a simpler implementation of a classification algorithm</p>\n",
    "\n",
    "----"
   ]
  },
  {
   "cell_type": "code",
   "execution_count": 884,
   "metadata": {
    "collapsed": false
   },
   "outputs": [],
   "source": [
    "learning_rate   = 0.001\n",
    "training_epochs = 20\n",
    "batch_size      = 100\n",
    "display_step    = 1\n",
    "\n",
    "n_hidden_1 = 256\n",
    "n_hidden_2 = 256\n",
    "n_input    = 1\n",
    "n_classes  = 1\n",
    "\n",
    "X = tf.placeholder(\"float\")\n",
    "Y = tf.placeholder(\"float\")\n",
    "\n",
    "#trainX = tf.convert_to_tensor(trainX)\n",
    "#trainY = tf.convert_to_tensor(trainY)\n"
   ]
  },
  {
   "cell_type": "code",
   "execution_count": 885,
   "metadata": {
    "collapsed": false
   },
   "outputs": [],
   "source": [
    "def multilayer_perceptron(X, weights, biases):\n",
    "    layer_1 = tf.add(tf.matmul( X, weights['h1']), biases['b1'])\n",
    "    layer_1 = tf.nn.relu(layer_1)\n",
    "    layer_2 = tf.add(tf.matmul(layer_1, weights['h2']), biases['b1'])\n",
    "    layer_2 = tf.nn.relu(layer_2)\n",
    "    out_layer = tf.matmul(layer_2, weights['out']) + biases['out']\n",
    "    \n",
    "    return out_layer"
   ]
  },
  {
   "cell_type": "code",
   "execution_count": 886,
   "metadata": {
    "collapsed": false
   },
   "outputs": [],
   "source": [
    "weights = {\n",
    "    'h1': tf.Variable(tf.random_normal([n_input, n_hidden_1])),\n",
    "    'h2': tf.Variable(tf.random_normal([n_hidden_1, n_hidden_2])),\n",
    "    'out': tf.Variable(tf.random_normal([n_hidden_2, n_classes]))\n",
    "}\n",
    "\n",
    "biases = {\n",
    "    'b1': tf.Variable(tf.random_normal([n_hidden_1])),\n",
    "    'b2': tf.Variable(tf.random_normal([n_hidden_2])),\n",
    "    'out': tf.Variable(tf.random_normal([n_classes]))\n",
    "}\n",
    "\n",
    "pred      = multilayer_perceptron(X, weights, biases)\n",
    "cost      = tf.reduce_mean(tf.nn.softmax_cross_entropy_with_logits(pred, Y))\n",
    "optimizer = tf.train.AdamOptimizer(learning_rate=learning_rate).minimize(cost)\n",
    "\n",
    "init      = tf.initialize_all_variables()"
   ]
  },
  {
   "cell_type": "code",
   "execution_count": null,
   "metadata": {
    "collapsed": false
   },
   "outputs": [],
   "source": [
    "with tf.Session() as sess:\n",
    "    \n",
    "    sess.run(init)\n",
    "        \n",
    "    for epoch in range(training_epochs):\n",
    "        #avg_cost = 0.\n",
    "        \n",
    "        for (xs, ys) in zip(trainX, trainY):\n",
    "            sess.run(optimizer, feed_dict={X:xs, Y:ys})\n",
    "         \n",
    "        #sess.run(optimizer, feed_dict = {X: trainX, Y: trainY})    \n",
    "            \n",
    "        if (epoch+1) % display_step == 0:\n",
    "            c = sess.run(cost, feed_dict={xs: trainX, ys: trainY})\n",
    "    \n",
    "    print(\"op finished\")\n",
    "    training_cost = sess.run(cost, feed_dict={x:trainX, y:trainY})\n",
    "    print(training_cost)"
   ]
  },
  {
   "cell_type": "markdown",
   "metadata": {},
   "source": [
    "----\n",
    "\n",
    "<h3>Building a graph function</h3>\n",
    "\n",
    "<p>It will color each point depending on whether the preceeding point is higher or lower than the given point.</p>\n",
    "\n",
    "----"
   ]
  },
  {
   "cell_type": "markdown",
   "metadata": {},
   "source": [
    "<h4>Here is our data</h4>"
   ]
  },
  {
   "cell_type": "code",
   "execution_count": 147,
   "metadata": {
    "collapsed": false,
    "scrolled": true
   },
   "outputs": [],
   "source": [
    "datapoints = np.linspace(0,30, num=30, endpoint=False)\n",
    "noisy_datapoints = np.random.randint(4, size=30) + datapoints"
   ]
  },
  {
   "cell_type": "code",
   "execution_count": 148,
   "metadata": {
    "collapsed": false
   },
   "outputs": [
    {
     "name": "stdout",
     "output_type": "stream",
     "text": [
      "30\n"
     ]
    },
    {
     "data": {
      "image/png": "[encoded data removed]",
      "text/plain": [
       "<matplotlib.figure.Figure at 0x11b18def0>"
      ]
     },
     "metadata": {},
     "output_type": "display_data"
    }
   ],
   "source": [
    "sinCurve       = np.sin(datapoints) + noisy_datapoints\n",
    "sinCurve_grad  = np.gradient(sinCurve, 1)\n",
    "# finding the second order derivative is unnecessary: sinCurve_twograd = np.gradient(sinCurve_grad)\n",
    "#instead of using the gradient, I plan to use the difference between each consecutive point. Is it neg or pos?\n",
    "\n",
    "sinCurve_diff  = np.diff(sinCurve)\n",
    "\n",
    "sinCurve_diff = np.insert(sinCurve_diff, 29, 0)\n",
    "print(len(sinCurve_diff))\n",
    "\n",
    "sinCurve_diff = pd.Series(sinCurve_diff)\n",
    "\n",
    "sinCurve_pn = np.where((sinCurve_diff < 0), 'r', 'b')\n",
    "\n",
    "fig = plt.figure()\n",
    "ax = fig.gca()\n",
    "#ax.set_xticks(numpy.arange(0,1,0.1))\n",
    "#ax.set_yticks(numpy.arange(0,1.,0.1))\n",
    "    \n",
    "plt.plot(sinCurve)\n",
    "plt.plot(sinCurve_diff)\n",
    "\n",
    "grid(b=True, which='major', color='b', linestyle='-')\n",
    "grid(b=True, which='minor', color='r', linestyle='--')"
   ]
  },
  {
   "cell_type": "markdown",
   "metadata": {},
   "source": [
    "<h4>And now for the colouring function in pseudocode:</h4>\n",
    "<p><code>for eachPoint <i>between</i> Point_2 <i>and<i> Point_n:</code></p>\n",
    "<p><code>    if [eachPoint - 1] > eachPoint:</code></p>\n",
    "<p><code>        turn eachPoint red</code></p>\n",
    "<p><code>    elif [eachPoint - 1] < eachPoint:</code></p>\n",
    "<p><code>        turn eachPoint blue</code></p>\n",
    "<p><code>    else:</code></p>\n",
    "<p><code>        turn eachPoint grey</code></p>"
   ]
  },
  {
   "cell_type": "code",
   "execution_count": 149,
   "metadata": {
    "collapsed": false
   },
   "outputs": [],
   "source": [
    "sinCurveDF = pd.DataFrame({'sinCurve': sinCurve, 'diff':sinCurve_diff, 'pn':sinCurve_pn})"
   ]
  },
  {
   "cell_type": "code",
   "execution_count": 150,
   "metadata": {
    "collapsed": false,
    "scrolled": false
   },
   "outputs": [
    {
     "data": {
      "text/plain": [
       "<matplotlib.figure.Figure at 0x11c096550>"
      ]
     },
     "metadata": {},
     "output_type": "display_data"
    },
    {
     "data": {
      "image/png": "[encoded data removed]",
      "text/plain": [
       "<matplotlib.figure.Figure at 0x11c0965f8>"
      ]
     },
     "metadata": {},
     "output_type": "display_data"
    }
   ],
   "source": [
    "plt.figure(figsize=(10,10))\n",
    "fig, ax = plt.subplots()\n",
    "for s in range(0, len(sinCurveDF.sinCurve) - 1):\n",
    "    x=(sinCurveDF.index[s], sinCurveDF.index[s + 1])\n",
    "    y=(sinCurveDF.sinCurve[s], sinCurveDF.sinCurve[s + 1])\n",
    "    ax.plot(x, y, c=sinCurveDF.pn[s])\n",
    "plt.show()"
   ]
  }
 ],
 "metadata": {
  "kernelspec": {
   "display_name": "Python 3",
   "language": "python",
   "name": "python3"
  },
  "language_info": {
   "codemirror_mode": {
    "name": "ipython",
    "version": 3
   },
   "file_extension": ".py",
   "mimetype": "text/x-python",
   "name": "python",
   "nbconvert_exporter": "python",
   "pygments_lexer": "ipython3",
   "version": "3.5.1"
  }
 },
 "nbformat": 4,
 "nbformat_minor": 0
}
